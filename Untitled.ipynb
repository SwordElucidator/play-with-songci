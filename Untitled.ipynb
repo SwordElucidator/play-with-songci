{
 "cells": [
  {
   "cell_type": "code",
   "execution_count": 1,
   "metadata": {},
   "outputs": [],
   "source": [
    "# 训练\n",
    "\n",
    "from train import training_loop"
   ]
  },
  {
   "cell_type": "markdown",
   "metadata": {},
   "source": [
    "## 从头训练\n",
    "直接从头开始训练"
   ]
  },
  {
   "cell_type": "code",
   "execution_count": null,
   "metadata": {},
   "outputs": [
    {
     "name": "stderr",
     "output_type": "stream",
     "text": [
      "WARNING:absl:No GPU/TPU found, falling back to CPU. (Set TF_CPP_MIN_LOG_LEVEL=0 and rerun for more info.)\n"
     ]
    },
    {
     "name": "stdout",
     "output_type": "stream",
     "text": [
      "\n",
      "Step      1: Total number of trainable weights: 16573296\n",
      "Step      1: Ran 1 train steps in 24.77 secs\n",
      "Step      1: train CrossEntropyLoss |  0.18608497\n",
      "Step      1: eval  CrossEntropyLoss |  0.14709440\n",
      "Step      1: eval          Accuracy |  0.00000000\n",
      "\n",
      "Step     50: Ran 49 train steps in 77.63 secs\n",
      "Step     50: train CrossEntropyLoss | -5.56797123\n",
      "Step     50: eval  CrossEntropyLoss | -12.50381184\n",
      "Step     50: eval          Accuracy |  0.25510836\n",
      "\n",
      "Step    100: Ran 50 train steps in 45.83 secs\n",
      "Step    100: train CrossEntropyLoss | -27.29256630\n",
      "Step    100: eval  CrossEntropyLoss | -47.89252472\n",
      "Step    100: eval          Accuracy |  0.26010102\n",
      "\n",
      "Step    150: Ran 50 train steps in 75.20 secs\n",
      "Step    150: train CrossEntropyLoss | -85.21976471\n",
      "Step    150: eval  CrossEntropyLoss | -136.34100342\n",
      "Step    150: eval          Accuracy |  0.23837209\n",
      "\n",
      "Step    200: Ran 50 train steps in 60.21 secs\n",
      "Step    200: train CrossEntropyLoss | -215.04826355\n",
      "Step    200: eval  CrossEntropyLoss | -315.64328003\n",
      "Step    200: eval          Accuracy |  0.25778863\n",
      "\n",
      "Step    250: Ran 50 train steps in 45.86 secs\n",
      "Step    250: train CrossEntropyLoss | -472.32962036\n",
      "Step    250: eval  CrossEntropyLoss | -662.27209473\n",
      "Step    250: eval          Accuracy |  0.26116374\n"
     ]
    }
   ],
   "source": [
    "loop = training_loop()\n",
    "loop.run(1000)"
   ]
  },
  {
   "cell_type": "code",
   "execution_count": null,
   "metadata": {},
   "outputs": [],
   "source": []
  }
 ],
 "metadata": {
  "kernelspec": {
   "display_name": "Python 3",
   "language": "python",
   "name": "python3"
  },
  "language_info": {
   "codemirror_mode": {
    "name": "ipython",
    "version": 3
   },
   "file_extension": ".py",
   "mimetype": "text/x-python",
   "name": "python",
   "nbconvert_exporter": "python",
   "pygments_lexer": "ipython3",
   "version": "3.8.5"
  }
 },
 "nbformat": 4,
 "nbformat_minor": 4
}
